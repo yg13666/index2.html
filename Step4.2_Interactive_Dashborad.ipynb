{
 "cells": [
  {
   "cell_type": "code",
   "execution_count": 1,
   "id": "30603697",
   "metadata": {},
   "outputs": [],
   "source": [
    "import dash\n",
    "from dash import html\n",
    "from dash import dcc\n",
    "from dash.dependencies import Input, Output\n",
    "import plotly.express as px\n",
    "import pandas as pd"
   ]
  },
  {
   "cell_type": "code",
   "execution_count": 2,
   "id": "20e66a9e",
   "metadata": {},
   "outputs": [],
   "source": [
    "# Read the dataset.\n",
    "df = pd.read_csv(\"Falcon_9.csv\")"
   ]
  },
  {
   "cell_type": "code",
   "execution_count": null,
   "id": "59c01f24",
   "metadata": {},
   "outputs": [
    {
     "name": "stdout",
     "output_type": "stream",
     "text": [
      "Dash is running on http://127.0.0.1:8050/\n",
      "\n",
      " * Serving Flask app '__main__'\n",
      " * Debug mode: off\n"
     ]
    },
    {
     "name": "stderr",
     "output_type": "stream",
     "text": [
      "\u001b[31m\u001b[1mWARNING: This is a development server. Do not use it in a production deployment. Use a production WSGI server instead.\u001b[0m\n",
      " * Running on http://127.0.0.1:8050\n",
      "\u001b[33mPress CTRL+C to quit\u001b[0m\n",
      "127.0.0.1 - - [25/May/2023 21:56:19] \"GET / HTTP/1.1\" 200 -\n",
      "127.0.0.1 - - [25/May/2023 21:56:19] \"GET /_dash-layout HTTP/1.1\" 200 -\n",
      "127.0.0.1 - - [25/May/2023 21:56:19] \"GET /_dash-dependencies HTTP/1.1\" 200 -\n",
      "127.0.0.1 - - [25/May/2023 21:56:19] \"\u001b[36mGET /_dash-component-suites/dash/dcc/async-graph.js HTTP/1.1\u001b[0m\" 304 -\n",
      "127.0.0.1 - - [25/May/2023 21:56:19] \"\u001b[36mGET /_dash-component-suites/dash/dcc/async-dropdown.js HTTP/1.1\u001b[0m\" 304 -\n",
      "127.0.0.1 - - [25/May/2023 21:56:19] \"\u001b[36mGET /_dash-component-suites/dash/dcc/async-slider.js HTTP/1.1\u001b[0m\" 304 -\n",
      "127.0.0.1 - - [25/May/2023 21:56:19] \"\u001b[36mGET /_dash-component-suites/dash/dcc/async-plotlyjs.js HTTP/1.1\u001b[0m\" 304 -\n",
      "127.0.0.1 - - [25/May/2023 21:56:20] \"POST /_dash-update-component HTTP/1.1\" 200 -\n",
      "127.0.0.1 - - [25/May/2023 21:56:20] \"POST /_dash-update-component HTTP/1.1\" 200 -\n",
      "127.0.0.1 - - [25/May/2023 21:56:44] \"POST /_dash-update-component HTTP/1.1\" 200 -\n",
      "127.0.0.1 - - [25/May/2023 21:56:46] \"POST /_dash-update-component HTTP/1.1\" 200 -\n",
      "127.0.0.1 - - [25/May/2023 21:56:48] \"POST /_dash-update-component HTTP/1.1\" 200 -\n",
      "127.0.0.1 - - [25/May/2023 21:56:50] \"POST /_dash-update-component HTTP/1.1\" 200 -\n",
      "127.0.0.1 - - [25/May/2023 21:56:51] \"POST /_dash-update-component HTTP/1.1\" 200 -\n",
      "127.0.0.1 - - [25/May/2023 21:56:52] \"POST /_dash-update-component HTTP/1.1\" 200 -\n",
      "127.0.0.1 - - [25/May/2023 21:56:53] \"POST /_dash-update-component HTTP/1.1\" 200 -\n"
     ]
    }
   ],
   "source": [
    "# Build dash application.\n",
    "app = dash.Dash(__name__)\n",
    "\n",
    "# Build a framework of the dashboard.\n",
    "app.layout = html.Div([\n",
    "    dcc.Dropdown(id='drop_down_launchsite',\n",
    "                 options=[{'label': 'All Sites', 'value': 'ALL'},\n",
    "                          {'label': 'VAFB SLC 4E', 'value': 'VAFB SLC 4E'},\n",
    "                          {'label': 'KSC LC 39A', 'value': 'KSC LC 39A'},\n",
    "                          {'label': 'CCSFS SLC 40', 'value': 'CCSFS SLC 40'}],value='ALL'),\n",
    "    # Use a pie chart to show the successful landing count for all launch sites.\n",
    "    dcc.Graph(id='successful_landing_pie'),\n",
    "    # Create a slider to choose the range of payload.\n",
    "    html.P(\"Payload mass (Kg):\"),\n",
    "    dcc.RangeSlider(id='payload_slider', min=0, max=16000, step=2000,\n",
    "                    value=[df['PayloadMass'].min(), df['PayloadMass'].max()]),\n",
    "    # Use a scatter chart to show the relationship between PayloadMass and landing.\n",
    "    dcc.Graph(id='successful_landing_payload_scatter')])\n",
    "\n",
    "\n",
    "@app.callback(Output(component_id='successful_landing_pie', component_property='figure'),\n",
    "              Input(component_id='drop_down_launchsite', component_property='value'))\n",
    "def pie_chart(site):\n",
    "    # Default is all site.\n",
    "    if site == 'ALL':\n",
    "        figure = px.pie(df, values='Landing', names='LaunchSite', title='Successful landing for all launch sites')\n",
    "        return figure\n",
    "    else:\n",
    "        # Create new pie chart according to different launch site selected.\n",
    "        df1 = df[df['LaunchSite'] == site]\n",
    "        figure = px.pie(df1, values='Landing', names='LaunchSite', title=f\"Successful landing for site {site}\")\n",
    "        return figure\n",
    "\n",
    "\n",
    "@app.callback(Output(component_id='successful_landing_payload_scatter',component_property='figure'),\n",
    "                [Input(component_id='drop_down_launchsite',component_property='value'),\n",
    "                Input(component_id='payload_slider',component_property='value')])\n",
    "def scatter_chart(site, payload):\n",
    "    df2 = df[df['PayloadMass'].between(payload[0],payload[1])]\n",
    "    # Same porcedure with pie chart\n",
    "    if site == 'ALL':\n",
    "        figure = px.scatter(df2,x='PayloadMass',y='Landing',\n",
    "                          color='LaunchSite',title='Successful landing on Payload mass for all sites')\n",
    "        return figure\n",
    "    else:\n",
    "        figure = px.scatter(df2[df2['LaunchSite']==site],x='PayloadMass',y='Landing',\n",
    "                          color='LaunchSite',title=f\"Successful landing on Payload mass for site {site}\")\n",
    "        return figure\n",
    "\n",
    "if __name__ == '__main__':\n",
    "    app.run_server()"
   ]
  },
  {
   "cell_type": "code",
   "execution_count": null,
   "id": "1c77f642",
   "metadata": {},
   "outputs": [],
   "source": []
  }
 ],
 "metadata": {
  "kernelspec": {
   "display_name": "Python 3 (ipykernel)",
   "language": "python",
   "name": "python3"
  },
  "language_info": {
   "codemirror_mode": {
    "name": "ipython",
    "version": 3
   },
   "file_extension": ".py",
   "mimetype": "text/x-python",
   "name": "python",
   "nbconvert_exporter": "python",
   "pygments_lexer": "ipython3",
   "version": "3.11.1"
  }
 },
 "nbformat": 4,
 "nbformat_minor": 5
}
